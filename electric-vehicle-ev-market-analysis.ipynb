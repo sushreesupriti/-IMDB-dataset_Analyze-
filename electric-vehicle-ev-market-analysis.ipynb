{
 "cells": [
  {
   "cell_type": "code",
   "execution_count": 1,
   "id": "462be634",
   "metadata": {
    "_cell_guid": "b1076dfc-b9ad-4769-8c92-a6c4dae69d19",
    "_uuid": "8f2839f25d086af736a60e9eeb907d3b93b6e0e5",
    "execution": {
     "iopub.execute_input": "2024-10-11T21:09:47.582219Z",
     "iopub.status.busy": "2024-10-11T21:09:47.581008Z",
     "iopub.status.idle": "2024-10-11T21:09:48.538136Z",
     "shell.execute_reply": "2024-10-11T21:09:48.536797Z"
    },
    "papermill": {
     "duration": 0.965389,
     "end_time": "2024-10-11T21:09:48.541275",
     "exception": false,
     "start_time": "2024-10-11T21:09:47.575886",
     "status": "completed"
    },
    "tags": []
   },
   "outputs": [
    {
     "name": "stdout",
     "output_type": "stream",
     "text": [
      "/kaggle/input/india-ev-market-data/Vehicle Class - All.csv\n",
      "/kaggle/input/india-ev-market-data/ev_sales_by_makers_and_cat_15-24.csv\n",
      "/kaggle/input/india-ev-market-data/EV Maker by Place.csv\n",
      "/kaggle/input/india-ev-market-data/OperationalPC.csv\n",
      "/kaggle/input/india-ev-market-data/ev_cat_01-24.csv\n"
     ]
    }
   ],
   "source": [
    "# This Python 3 environment comes with many helpful analytics libraries installed\n",
    "# It is defined by the kaggle/python Docker image: https://github.com/kaggle/docker-python\n",
    "# For example, here's several helpful packages to load\n",
    "\n",
    "import numpy as np # linear algebra\n",
    "import pandas as pd # data processing, CSV file I/O (e.g. pd.read_csv)\n",
    "\n",
    "# Input data files are available in the read-only \"../input/\" directory\n",
    "# For example, running this (by clicking run or pressing Shift+Enter) will list all files under the input directory\n",
    "\n",
    "import os\n",
    "for dirname, _, filenames in os.walk('/kaggle/input'):\n",
    "    for filename in filenames:\n",
    "        print(os.path.join(dirname, filename))\n",
    "\n",
    "# You can write up to 20GB to the current directory (/kaggle/working/) that gets preserved as output when you create a version using \"Save & Run All\" \n",
    "# You can also write temporary files to /kaggle/temp/, but they won't be saved outside of the current session"
   ]
  },
  {
   "cell_type": "code",
   "execution_count": 2,
   "id": "d4dcaf84",
   "metadata": {
    "execution": {
     "iopub.execute_input": "2024-10-11T21:09:48.548649Z",
     "iopub.status.busy": "2024-10-11T21:09:48.548033Z",
     "iopub.status.idle": "2024-10-11T21:10:03.970014Z",
     "shell.execute_reply": "2024-10-11T21:10:03.968294Z"
    },
    "papermill": {
     "duration": 15.429088,
     "end_time": "2024-10-11T21:10:03.973326",
     "exception": false,
     "start_time": "2024-10-11T21:09:48.544238",
     "status": "completed"
    },
    "tags": []
   },
   "outputs": [
    {
     "name": "stdout",
     "output_type": "stream",
     "text": [
      "Requirement already satisfied: ipython-sql in /opt/conda/lib/python3.10/site-packages (0.5.0)\r\n",
      "Requirement already satisfied: prettytable in /opt/conda/lib/python3.10/site-packages (from ipython-sql) (3.10.0)\r\n",
      "Requirement already satisfied: ipython in /opt/conda/lib/python3.10/site-packages (from ipython-sql) (8.21.0)\r\n",
      "Requirement already satisfied: sqlalchemy>=2.0 in /opt/conda/lib/python3.10/site-packages (from ipython-sql) (2.0.30)\r\n",
      "Requirement already satisfied: sqlparse in /opt/conda/lib/python3.10/site-packages (from ipython-sql) (0.5.0)\r\n",
      "Requirement already satisfied: six in /opt/conda/lib/python3.10/site-packages (from ipython-sql) (1.16.0)\r\n",
      "Requirement already satisfied: ipython-genutils in /opt/conda/lib/python3.10/site-packages (from ipython-sql) (0.2.0)\r\n",
      "Requirement already satisfied: typing-extensions>=4.6.0 in /opt/conda/lib/python3.10/site-packages (from sqlalchemy>=2.0->ipython-sql) (4.12.2)\r\n",
      "Requirement already satisfied: greenlet!=0.4.17 in /opt/conda/lib/python3.10/site-packages (from sqlalchemy>=2.0->ipython-sql) (3.0.3)\r\n",
      "Requirement already satisfied: decorator in /opt/conda/lib/python3.10/site-packages (from ipython->ipython-sql) (5.1.1)\r\n",
      "Requirement already satisfied: jedi>=0.16 in /opt/conda/lib/python3.10/site-packages (from ipython->ipython-sql) (0.19.1)\r\n",
      "Requirement already satisfied: matplotlib-inline in /opt/conda/lib/python3.10/site-packages (from ipython->ipython-sql) (0.1.7)\r\n",
      "Requirement already satisfied: prompt-toolkit<3.1.0,>=3.0.41 in /opt/conda/lib/python3.10/site-packages (from ipython->ipython-sql) (3.0.47)\r\n",
      "Requirement already satisfied: pygments>=2.4.0 in /opt/conda/lib/python3.10/site-packages (from ipython->ipython-sql) (2.18.0)\r\n",
      "Requirement already satisfied: stack-data in /opt/conda/lib/python3.10/site-packages (from ipython->ipython-sql) (0.6.2)\r\n",
      "Requirement already satisfied: traitlets>=5 in /opt/conda/lib/python3.10/site-packages (from ipython->ipython-sql) (5.14.3)\r\n",
      "Requirement already satisfied: exceptiongroup in /opt/conda/lib/python3.10/site-packages (from ipython->ipython-sql) (1.2.0)\r\n",
      "Requirement already satisfied: pexpect>4.3 in /opt/conda/lib/python3.10/site-packages (from ipython->ipython-sql) (4.9.0)\r\n",
      "Requirement already satisfied: wcwidth in /opt/conda/lib/python3.10/site-packages (from prettytable->ipython-sql) (0.2.13)\r\n",
      "Requirement already satisfied: parso<0.9.0,>=0.8.3 in /opt/conda/lib/python3.10/site-packages (from jedi>=0.16->ipython->ipython-sql) (0.8.4)\r\n",
      "Requirement already satisfied: ptyprocess>=0.5 in /opt/conda/lib/python3.10/site-packages (from pexpect>4.3->ipython->ipython-sql) (0.7.0)\r\n",
      "Requirement already satisfied: executing>=1.2.0 in /opt/conda/lib/python3.10/site-packages (from stack-data->ipython->ipython-sql) (2.0.1)\r\n",
      "Requirement already satisfied: asttokens>=2.1.0 in /opt/conda/lib/python3.10/site-packages (from stack-data->ipython->ipython-sql) (2.4.1)\r\n",
      "Requirement already satisfied: pure-eval in /opt/conda/lib/python3.10/site-packages (from stack-data->ipython->ipython-sql) (0.2.2)\r\n"
     ]
    }
   ],
   "source": [
    "!pip install ipython-sql"
   ]
  },
  {
   "cell_type": "code",
   "execution_count": 3,
   "id": "bbb88d76",
   "metadata": {
    "execution": {
     "iopub.execute_input": "2024-10-11T21:10:03.982042Z",
     "iopub.status.busy": "2024-10-11T21:10:03.981554Z",
     "iopub.status.idle": "2024-10-11T21:10:04.032454Z",
     "shell.execute_reply": "2024-10-11T21:10:04.031081Z"
    },
    "papermill": {
     "duration": 0.059236,
     "end_time": "2024-10-11T21:10:04.035886",
     "exception": false,
     "start_time": "2024-10-11T21:10:03.976650",
     "status": "completed"
    },
    "tags": []
   },
   "outputs": [],
   "source": [
    "import pandas as pd\n",
    "import sqlite3\n",
    "place_path = \"/kaggle/input/india-ev-market-data/EV Maker by Place.csv\"\n",
    "operationaIPC_path = \"/kaggle/input/india-ev-market-data/OperationalPC.csv\"\n",
    "Vehicle_Class_path = \"/kaggle/input/india-ev-market-data/Vehicle Class - All.csv\"\n",
    "ev_cat_path = \"/kaggle/input/india-ev-market-data/ev_cat_01-24.csv\"\n",
    "ev_sales_by_makers_cat_path = \"/kaggle/input/india-ev-market-data/ev_sales_by_makers_and_cat_15-24.csv\"\n",
    "conn = sqlite3.connect('/kaggle/working/Electric_Vehicle_Data.db')\n",
    "EV_Maker_by_place = pd.read_csv(place_path)\n",
    "OperationalIPC = pd.read_csv(operationaIPC_path)\n",
    "Vehicle_Class_All = pd.read_csv(Vehicle_Class_path)\n",
    "ev_cat_01_24 = pd.read_csv(ev_cat_path)\n",
    "ev_sales_by_makers_and_cat15_24 = pd.read_csv(ev_sales_by_makers_cat_path)\n"
   ]
  }
 ],
 "metadata": {
  "kaggle": {
   "accelerator": "none",
   "dataSources": [
    {
     "datasetId": 5496238,
     "sourceId": 9170057,
     "sourceType": "datasetVersion"
    }
   ],
   "dockerImageVersionId": 30786,
   "isGpuEnabled": false,
   "isInternetEnabled": true,
   "language": "python",
   "sourceType": "notebook"
  },
  "kernelspec": {
   "display_name": "Python 3",
   "language": "python",
   "name": "python3"
  },
  "language_info": {
   "codemirror_mode": {
    "name": "ipython",
    "version": 3
   },
   "file_extension": ".py",
   "mimetype": "text/x-python",
   "name": "python",
   "nbconvert_exporter": "python",
   "pygments_lexer": "ipython3",
   "version": "3.10.14"
  },
  "papermill": {
   "default_parameters": {},
   "duration": 20.02495,
   "end_time": "2024-10-11T21:10:04.562694",
   "environment_variables": {},
   "exception": null,
   "input_path": "__notebook__.ipynb",
   "output_path": "__notebook__.ipynb",
   "parameters": {},
   "start_time": "2024-10-11T21:09:44.537744",
   "version": "2.6.0"
  }
 },
 "nbformat": 4,
 "nbformat_minor": 5
}
